{
 "cells": [
  {
   "cell_type": "markdown",
   "id": "e75d4176",
   "metadata": {},
   "source": [
    "# 模块sys"
   ]
  },
  {
   "attachments": {},
   "cell_type": "markdown",
   "id": "8c29ebe5",
   "metadata": {},
   "source": [
    "sys模块是与系统相关的标准库模块："
   ]
  },
  {
   "cell_type": "code",
   "execution_count": 1,
   "id": "e355ebd3",
   "metadata": {},
   "outputs": [],
   "source": [
    "import sys"
   ]
  },
  {
   "cell_type": "markdown",
   "id": "3524c9f7",
   "metadata": {},
   "source": [
    "sys模块最重要的作用是解析ming'l"
   ]
  }
 ],
 "metadata": {
  "kernelspec": {
   "display_name": "Python 3 (ipykernel)",
   "language": "python",
   "name": "python3"
  },
  "language_info": {
   "codemirror_mode": {
    "name": "ipython",
    "version": 3
   },
   "file_extension": ".py",
   "mimetype": "text/x-python",
   "name": "python",
   "nbconvert_exporter": "python",
   "pygments_lexer": "ipython3",
   "version": "3.9.10"
  }
 },
 "nbformat": 4,
 "nbformat_minor": 5
}

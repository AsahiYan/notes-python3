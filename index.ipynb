{
 "cells": [
  {
   "cell_type": "markdown",
   "id": "6c5f25b1",
   "metadata": {},
   "source": [
    "# 中文 Python 笔记\n",
    "\n",
    "默认安装了 Python 3，以及相关的第三方包 `ipython`， `numpy`， `scipy`，`pandas`。推荐使用 Anaconda，这个IDE集成了大部分常用的包。\n",
    "\n",
    "> life is short. use python.\n",
    "\n",
    "\n",
    "笔记内容使用 Jupyter Notebook 来展示。安装好 Python 和相应的包之后，可以在命令行下输入：\n",
    "\n",
    "```shell\n",
    "jupyter notebook\n",
    "```\n",
    "\n",
    "也可以在[NBViewer](http://nbviewer.ipython.org/github/lijin-THU/notes-python3/blob/master/index.ipynb)中查看相关内容。\n",
    "\n",
    "目录：\n",
    "- [ch01-Python介绍](ch01-Python介绍)\n",
    "\t- [01-01Python简介](ch01-Python%E4%BB%8B%E7%BB%8D/01-01Python%E7%AE%80%E4%BB%8B.ipynb)\n",
    "\t- [01-02IPython解释器](ch01-Python%E4%BB%8B%E7%BB%8D/01-02IPython%E8%A7%A3%E9%87%8A%E5%99%A8.ipynb)\n",
    "\t- [01-03Jupyter Notebook](ch01-Python%E4%BB%8B%E7%BB%8D/01-03Jupyter%20Notebook.ipynb)\n",
    "\t- [01-04脚本模式与解释器模式](ch01-Python%E4%BB%8B%E7%BB%8D/01-04%E8%84%9A%E6%9C%AC%E6%A8%A1%E5%BC%8F%E4%B8%8E%E8%A7%A3%E9%87%8A%E5%99%A8%E6%A8%A1%E5%BC%8F.ipynb)\n",
    "- [ch02-Python基础](ch02-Python基础)\n",
    "\t- [02-01Python演示](ch02-Python%E5%9F%BA%E7%A1%80/02-01Python%E6%BC%94%E7%A4%BA.ipynb)\n",
    "\t- [02-02数字](ch02-Python%E5%9F%BA%E7%A1%80/02-02%E6%95%B0%E5%AD%97.ipynb)\n",
    "\t- [02-03字符串](ch02-Python%E5%9F%BA%E7%A1%80/02-03%E5%AD%97%E7%AC%A6%E4%B8%B2.ipynb)\n",
    "\t- [02-04索引和分片](ch02-Python%E5%9F%BA%E7%A1%80/02-04%E7%B4%A2%E5%BC%95%E5%92%8C%E5%88%86%E7%89%87.ipynb)\n",
    "\t- [02-05列表](ch02-Python%E5%9F%BA%E7%A1%80/02-05%E5%88%97%E8%A1%A8.ipynb)\n",
    "\t- [02-06可变与不可变类型](ch02-Python%E5%9F%BA%E7%A1%80/02-06%E5%8F%AF%E5%8F%98%E4%B8%8E%E4%B8%8D%E5%8F%AF%E5%8F%98%E7%B1%BB%E5%9E%8B.ipynb)\n",
    "\t- [02-07元组](ch02-Python%E5%9F%BA%E7%A1%80/02-07%E5%85%83%E7%BB%84.ipynb)"
   ]
  },
  {
   "cell_type": "code",
   "execution_count": 1,
   "id": "0f6fc668",
   "metadata": {},
   "outputs": [
    {
     "name": "stdout",
     "output_type": "stream",
     "text": [
      "hello world!\n"
     ]
    }
   ],
   "source": [
    "print(\"hello world!\")"
   ]
  },
  {
   "cell_type": "markdown",
   "id": "3be9695e",
   "metadata": {},
   "source": [
    "产生目录的代码："
   ]
  },
  {
   "cell_type": "code",
   "execution_count": 2,
   "id": "9ea23453",
   "metadata": {},
   "outputs": [],
   "source": [
    "from pathlib import Path\n",
    "import urllib.request"
   ]
  },
  {
   "cell_type": "code",
   "execution_count": 3,
   "id": "ae8a6d1d",
   "metadata": {},
   "outputs": [],
   "source": [
    "root_path = Path(\".\")"
   ]
  },
  {
   "cell_type": "markdown",
   "id": "a2785fa3",
   "metadata": {},
   "source": [
    "遍历文件："
   ]
  },
  {
   "cell_type": "code",
   "execution_count": 4,
   "id": "0a33170b",
   "metadata": {},
   "outputs": [
    {
     "name": "stdout",
     "output_type": "stream",
     "text": [
      "ch01-Python介绍/01-01Python简介.ipynb\n",
      "ch01-Python介绍/01-02IPython解释器.ipynb\n",
      "ch01-Python介绍/01-03Jupyter Notebook.ipynb\n",
      "ch01-Python介绍/01-04脚本模式与解释器模式.ipynb\n",
      "ch02-Python基础/02-01Python演示.ipynb\n",
      "ch02-Python基础/02-02数字.ipynb\n",
      "ch02-Python基础/02-03字符串.ipynb\n",
      "ch02-Python基础/02-04索引和分片.ipynb\n",
      "ch02-Python基础/02-05列表.ipynb\n",
      "ch02-Python基础/02-06可变与不可变类型.ipynb\n",
      "ch02-Python基础/02-07元组.ipynb\n"
     ]
    }
   ],
   "source": [
    "for name in sorted(root_path.glob(\"ch*/*.ipynb\")):\n",
    "    print(name)"
   ]
  },
  {
   "cell_type": "markdown",
   "id": "a3aff572",
   "metadata": {},
   "source": [
    "改写为Markdown形式："
   ]
  },
  {
   "cell_type": "code",
   "execution_count": 5,
   "id": "ffe08ea9",
   "metadata": {},
   "outputs": [],
   "source": [
    "folder = None\n",
    "\n",
    "result = \"\"\"\n",
    "# 中文 Python 笔记\n",
    "\n",
    "默认安装了 Python 3，以及相关的第三方包 `ipython`， `numpy`， `scipy`，`pandas`。推荐使用 Anaconda，这个IDE集成了大部分常用的包。\n",
    "\n",
    "> life is short. use python.\n",
    "\n",
    "\n",
    "笔记内容使用 Jupyter Notebook 来展示。安装好 Python 和相应的包之后，可以在命令行下输入：\n",
    "\n",
    "```shell\n",
    "jupyter notebook\n",
    "```\n",
    "\n",
    "也可以在[NBViewer](http://nbviewer.ipython.org/github/lijin-THU/notes-python3/blob/master/index.ipynb)中查看相关内容。\n",
    "\n",
    "目录：\n",
    "\"\"\"\n",
    "\n",
    "for name in sorted(root_path.glob(\"ch*/*.ipynb\")):\n",
    "    if not folder or folder != name.parent:\n",
    "        folder = name.parent\n",
    "        result += f\"- [{folder.name}]({folder.name})\\n\"\n",
    "    result += f\"\\t- [{name.stem}]({urllib.request.quote(str(name))})\\n\""
   ]
  },
  {
   "cell_type": "code",
   "execution_count": 6,
   "id": "b2c4d985",
   "metadata": {},
   "outputs": [],
   "source": [
    "with open(\"ReadMe.md\", \"w\") as f:\n",
    "    f.write(result)"
   ]
  },
  {
   "cell_type": "code",
   "execution_count": 7,
   "id": "8ca37244",
   "metadata": {},
   "outputs": [
    {
     "name": "stdout",
     "output_type": "stream",
     "text": [
      "\n",
      "# 中文 Python 笔记\n",
      "\n",
      "默认安装了 Python 3，以及相关的第三方包 `ipython`， `numpy`， `scipy`，`pandas`。推荐使用 Anaconda，这个IDE集成了大部分常用的包。\n",
      "\n",
      "> life is short. use python.\n",
      "\n",
      "\n",
      "笔记内容使用 Jupyter Notebook 来展示。安装好 Python 和相应的包之后，可以在命令行下输入：\n",
      "\n",
      "```shell\n",
      "jupyter notebook\n",
      "```\n",
      "\n",
      "也可以在[NBViewer](http://nbviewer.ipython.org/github/lijin-THU/notes-python3/blob/master/index.ipynb)中查看相关内容。\n",
      "\n",
      "目录：\n",
      "- [ch01-Python介绍](ch01-Python介绍)\n",
      "\t- [01-01Python简介](ch01-Python%E4%BB%8B%E7%BB%8D/01-01Python%E7%AE%80%E4%BB%8B.ipynb)\n",
      "\t- [01-02IPython解释器](ch01-Python%E4%BB%8B%E7%BB%8D/01-02IPython%E8%A7%A3%E9%87%8A%E5%99%A8.ipynb)\n",
      "\t- [01-03Jupyter Notebook](ch01-Python%E4%BB%8B%E7%BB%8D/01-03Jupyter%20Notebook.ipynb)\n",
      "\t- [01-04脚本模式与解释器模式](ch01-Python%E4%BB%8B%E7%BB%8D/01-04%E8%84%9A%E6%9C%AC%E6%A8%A1%E5%BC%8F%E4%B8%8E%E8%A7%A3%E9%87%8A%E5%99%A8%E6%A8%A1%E5%BC%8F.ipynb)\n",
      "- [ch02-Python基础](ch02-Python基础)\n",
      "\t- [02-01Python演示](ch02-Python%E5%9F%BA%E7%A1%80/02-01Python%E6%BC%94%E7%A4%BA.ipynb)\n",
      "\t- [02-02数字](ch02-Python%E5%9F%BA%E7%A1%80/02-02%E6%95%B0%E5%AD%97.ipynb)\n",
      "\t- [02-03字符串](ch02-Python%E5%9F%BA%E7%A1%80/02-03%E5%AD%97%E7%AC%A6%E4%B8%B2.ipynb)\n",
      "\t- [02-04索引和分片](ch02-Python%E5%9F%BA%E7%A1%80/02-04%E7%B4%A2%E5%BC%95%E5%92%8C%E5%88%86%E7%89%87.ipynb)\n",
      "\t- [02-05列表](ch02-Python%E5%9F%BA%E7%A1%80/02-05%E5%88%97%E8%A1%A8.ipynb)\n",
      "\t- [02-06可变与不可变类型](ch02-Python%E5%9F%BA%E7%A1%80/02-06%E5%8F%AF%E5%8F%98%E4%B8%8E%E4%B8%8D%E5%8F%AF%E5%8F%98%E7%B1%BB%E5%9E%8B.ipynb)\n",
      "\t- [02-07元组](ch02-Python%E5%9F%BA%E7%A1%80/02-07%E5%85%83%E7%BB%84.ipynb)\n",
      "\n"
     ]
    }
   ],
   "source": [
    "print(result)"
   ]
  }
 ],
 "metadata": {
  "kernelspec": {
   "display_name": "Python 3 (ipykernel)",
   "language": "python",
   "name": "python3"
  },
  "language_info": {
   "codemirror_mode": {
    "name": "ipython",
    "version": 3
   },
   "file_extension": ".py",
   "mimetype": "text/x-python",
   "name": "python",
   "nbconvert_exporter": "python",
   "pygments_lexer": "ipython3",
   "version": "3.9.10"
  }
 },
 "nbformat": 4,
 "nbformat_minor": 5
}
